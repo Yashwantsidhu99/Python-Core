{
 "cells": [
  {
   "cell_type": "code",
   "execution_count": null,
   "id": "4ce22ae6",
   "metadata": {},
   "outputs": [],
   "source": [
    "# question no.97\n",
    "# Please write a program which accepts a string from console and print the characters\n",
    "# that have even indexes. \n",
    "# If the following string is given as input to the program: H1e2l3l4o5w6o7r8l9d \n",
    "d=input(\"enter the string: \")\n",
    "print(d[::2])"
   ]
  }
 ],
 "metadata": {
  "kernelspec": {
   "display_name": "Python 3",
   "language": "python",
   "name": "python3"
  },
  "language_info": {
   "codemirror_mode": {
    "name": "ipython",
    "version": 3
   },
   "file_extension": ".py",
   "mimetype": "text/x-python",
   "name": "python",
   "nbconvert_exporter": "python",
   "pygments_lexer": "ipython3",
   "version": "3.8.8"
  }
 },
 "nbformat": 4,
 "nbformat_minor": 5
}
