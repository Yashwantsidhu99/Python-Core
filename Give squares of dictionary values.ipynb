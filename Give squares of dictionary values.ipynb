{
 "cells": [
  {
   "cell_type": "code",
   "execution_count": null,
   "id": "bad237dd",
   "metadata": {},
   "outputs": [],
   "source": [
    "# question no.35\n",
    "\n",
    "# Define a function which can generate a dictionary where the keys are numbers \n",
    "# between 1 and 20 (both included) and the values are square of keys. The function\n",
    "# should just print the values only. \n",
    "def redi():\n",
    "    l={a:a**2 for a in range(1,21)}\n",
    "    return l.values()\n",
    "redi()"
   ]
  }
 ],
 "metadata": {
  "kernelspec": {
   "display_name": "Python 3",
   "language": "python",
   "name": "python3"
  },
  "language_info": {
   "codemirror_mode": {
    "name": "ipython",
    "version": 3
   },
   "file_extension": ".py",
   "mimetype": "text/x-python",
   "name": "python",
   "nbconvert_exporter": "python",
   "pygments_lexer": "ipython3",
   "version": "3.8.8"
  }
 },
 "nbformat": 4,
 "nbformat_minor": 5
}
