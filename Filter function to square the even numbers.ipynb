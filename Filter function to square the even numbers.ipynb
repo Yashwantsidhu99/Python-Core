{
 "cells": [
  {
   "cell_type": "code",
   "execution_count": null,
   "id": "4a5802bc",
   "metadata": {},
   "outputs": [],
   "source": [
    "# question no.48\n",
    "\n",
    "# Write a program which can filter() to make a list whose elements are even number between \n",
    "# 1 and 20 (both included).\n",
    "a=[]\n",
    "for i in range(0,21):\n",
    "    a.append(i)\n",
    "list(filter(lambda a:a**2 if(a%2==0) else '',a))\n"
   ]
  }
 ],
 "metadata": {
  "kernelspec": {
   "display_name": "Python 3",
   "language": "python",
   "name": "python3"
  },
  "language_info": {
   "codemirror_mode": {
    "name": "ipython",
    "version": 3
   },
   "file_extension": ".py",
   "mimetype": "text/x-python",
   "name": "python",
   "nbconvert_exporter": "python",
   "pygments_lexer": "ipython3",
   "version": "3.8.8"
  }
 },
 "nbformat": 4,
 "nbformat_minor": 5
}
