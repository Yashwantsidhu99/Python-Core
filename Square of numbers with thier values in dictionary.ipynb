{
 "cells": [
  {
   "cell_type": "code",
   "execution_count": null,
   "id": "269dde79",
   "metadata": {},
   "outputs": [],
   "source": [
    "# question no.33\n",
    "\n",
    "#  Define a function which can print a dictionary where \n",
    "# the keys are numbers between 1 and 3 (both included) and the values are square of keys. \n",
    "def di():\n",
    "    return {x:x**2 for x in range(1,4)}\n",
    "di()    "
   ]
  }
 ],
 "metadata": {
  "kernelspec": {
   "display_name": "Python 3",
   "language": "python",
   "name": "python3"
  },
  "language_info": {
   "codemirror_mode": {
    "name": "ipython",
    "version": 3
   },
   "file_extension": ".py",
   "mimetype": "text/x-python",
   "name": "python",
   "nbconvert_exporter": "python",
   "pygments_lexer": "ipython3",
   "version": "3.8.8"
  }
 },
 "nbformat": 4,
 "nbformat_minor": 5
}
