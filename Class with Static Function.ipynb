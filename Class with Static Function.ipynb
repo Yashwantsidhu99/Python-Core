{
 "cells": [
  {
   "cell_type": "code",
   "execution_count": null,
   "id": "dda98c90",
   "metadata": {},
   "outputs": [],
   "source": [
    "# question no.50\n",
    "\n",
    "# Define a class named American which has a static method called printNationality. \n",
    "class american:\n",
    "    @staticmethod\n",
    "    def printnationality():\n",
    "        a=\"america\"\n",
    "        print(a)\n",
    "        \n",
    "a=american() \n",
    "a.printnationality()\n"
   ]
  }
 ],
 "metadata": {
  "kernelspec": {
   "display_name": "Python 3",
   "language": "python",
   "name": "python3"
  },
  "language_info": {
   "codemirror_mode": {
    "name": "ipython",
    "version": 3
   },
   "file_extension": ".py",
   "mimetype": "text/x-python",
   "name": "python",
   "nbconvert_exporter": "python",
   "pygments_lexer": "ipython3",
   "version": "3.8.8"
  }
 },
 "nbformat": 4,
 "nbformat_minor": 5
}
