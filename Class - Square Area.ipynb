{
 "cells": [
  {
   "cell_type": "code",
   "execution_count": null,
   "id": "bd399da5",
   "metadata": {},
   "outputs": [],
   "source": [
    "# question no.54\n",
    "\n",
    "# Define a class name  d Shape and its subclass Square. The Square class has an init \n",
    "# function which takes a length as argument. Both classes have a area function which \n",
    "# can print the area of the shape where Shape's area is 0 by default.\n",
    "class shape:\n",
    "    def area(self):\n",
    "        print(\"area of this shape is {} by default\".format(0))\n",
    "    \n",
    "class square(shape):\n",
    "    \n",
    "    def __init__(self,length):\n",
    "        self.length=length\n",
    "    def area(self):\n",
    "        area=self.length*self.length\n",
    "        print(area)\n",
    "a=shape()    \n",
    "a.area()\n",
    "a=square(22)\n",
    "a.area()\n",
    "        \n",
    "        "
   ]
  }
 ],
 "metadata": {
  "kernelspec": {
   "display_name": "Python 3",
   "language": "python",
   "name": "python3"
  },
  "language_info": {
   "codemirror_mode": {
    "name": "ipython",
    "version": 3
   },
   "file_extension": ".py",
   "mimetype": "text/x-python",
   "name": "python",
   "nbconvert_exporter": "python",
   "pygments_lexer": "ipython3",
   "version": "3.8.8"
  }
 },
 "nbformat": 4,
 "nbformat_minor": 5
}
