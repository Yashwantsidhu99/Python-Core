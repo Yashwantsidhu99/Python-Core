{
 "cells": [
  {
   "cell_type": "code",
   "execution_count": null,
   "id": "0f15c12a",
   "metadata": {},
   "outputs": [],
   "source": [
    "# question no.58\n",
    "\n",
    "# Assuming that we have some email addresses in the \n",
    "# \"username@companyname.com\" format, please write program to print the companyname of\n",
    "# a given email address. Both user names and company names are composed of letters only.\n",
    "\n",
    "print('\\n'\"company name: \")\n",
    "b=a[k+1:len(a)]  \n",
    "az=b.replace(\".com\",\"\")\n",
    "print(az,end=\"\")"
   ]
  }
 ],
 "metadata": {
  "kernelspec": {
   "display_name": "Python 3",
   "language": "python",
   "name": "python3"
  },
  "language_info": {
   "codemirror_mode": {
    "name": "ipython",
    "version": 3
   },
   "file_extension": ".py",
   "mimetype": "text/x-python",
   "name": "python",
   "nbconvert_exporter": "python",
   "pygments_lexer": "ipython3",
   "version": "3.8.8"
  }
 },
 "nbformat": 4,
 "nbformat_minor": 5
}
