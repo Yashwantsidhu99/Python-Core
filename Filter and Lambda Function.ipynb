{
 "cells": [
  {
   "cell_type": "code",
   "execution_count": null,
   "id": "0a65d568",
   "metadata": {},
   "outputs": [],
   "source": [
    "#  Write a program which can filter even numbers in a list by using filter function.\n",
    "# The list is: [1,2,3,4,5,6,7,8,9,10].\n",
    "list(filter(lambda x:x if(x%2==0) else '',[1,2,3,4,5,6,7,8,9,10]))"
   ]
  }
 ],
 "metadata": {
  "kernelspec": {
   "display_name": "Python 3",
   "language": "python",
   "name": "python3"
  },
  "language_info": {
   "codemirror_mode": {
    "name": "ipython",
    "version": 3
   },
   "file_extension": ".py",
   "mimetype": "text/x-python",
   "name": "python",
   "nbconvert_exporter": "python",
   "pygments_lexer": "ipython3",
   "version": "3.8.8"
  }
 },
 "nbformat": 4,
 "nbformat_minor": 5
}
