{
 "cells": [
  {
   "cell_type": "code",
   "execution_count": null,
   "id": "7d801ef7",
   "metadata": {},
   "outputs": [],
   "source": [
    "# Write a program that accepts sequence of lines as input and prints the lines after\n",
    "# making all characters in the sentence capitalized.\n",
    "a=[]\n",
    "while True:\n",
    "    l=input(\"enter a sentence \")\n",
    "    if l:\n",
    "        a.append(l.upper())\n",
    "    else:\n",
    "        break\n",
    "for i in a:\n",
    "    print(i)"
   ]
  }
 ],
 "metadata": {
  "kernelspec": {
   "display_name": "Python 3",
   "language": "python",
   "name": "python3"
  },
  "language_info": {
   "codemirror_mode": {
    "name": "ipython",
    "version": 3
   },
   "file_extension": ".py",
   "mimetype": "text/x-python",
   "name": "python",
   "nbconvert_exporter": "python",
   "pygments_lexer": "ipython3",
   "version": "3.8.8"
  }
 },
 "nbformat": 4,
 "nbformat_minor": 5
}
