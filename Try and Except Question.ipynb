{
 "cells": [
  {
   "cell_type": "code",
   "execution_count": null,
   "id": "65451244",
   "metadata": {},
   "outputs": [],
   "source": [
    "# question no.55\n",
    "\n",
    "# Write a function to compute 5/0 and use try/except to catch the exceptions.\n",
    "def a():\n",
    "    try:\n",
    "        c=5/0\n",
    "        print(c)\n",
    "    except Exception as e:\n",
    "        print(e)\n",
    "        try:\n",
    "            n=int(input(\"enter another number to divide: \"))\n",
    "            c=5/n\n",
    "            print(c)\n",
    "        except:\n",
    "            print(\"something went wrong again\")\n",
    "a()        "
   ]
  }
 ],
 "metadata": {
  "kernelspec": {
   "display_name": "Python 3",
   "language": "python",
   "name": "python3"
  },
  "language_info": {
   "codemirror_mode": {
    "name": "ipython",
    "version": 3
   },
   "file_extension": ".py",
   "mimetype": "text/x-python",
   "name": "python",
   "nbconvert_exporter": "python",
   "pygments_lexer": "ipython3",
   "version": "3.8.8"
  }
 },
 "nbformat": 4,
 "nbformat_minor": 5
}
