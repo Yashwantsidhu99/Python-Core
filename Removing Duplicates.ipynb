{
 "cells": [
  {
   "cell_type": "code",
   "execution_count": null,
   "id": "753a59b2",
   "metadata": {},
   "outputs": [],
   "source": [
    "# question no.93\n",
    "# With a given list [12, 24, 35, 24, 88, 120, 155, 88, 120, 155], write a program to print\n",
    "# this list after removing all duplicate values with original order reserved.\n",
    "a=[12, 24, 35, 24, 88, 120, 155, 88, 120, 155]\n",
    "a=set(a)\n",
    "print(a)\n",
    "a=list(a)\n",
    "print(a)"
   ]
  }
 ],
 "metadata": {
  "kernelspec": {
   "display_name": "Python 3",
   "language": "python",
   "name": "python3"
  },
  "language_info": {
   "codemirror_mode": {
    "name": "ipython",
    "version": 3
   },
   "file_extension": ".py",
   "mimetype": "text/x-python",
   "name": "python",
   "nbconvert_exporter": "python",
   "pygments_lexer": "ipython3",
   "version": "3.8.8"
  }
 },
 "nbformat": 4,
 "nbformat_minor": 5
}
