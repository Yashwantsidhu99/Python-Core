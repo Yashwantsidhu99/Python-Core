{
 "cells": [
  {
   "cell_type": "code",
   "execution_count": null,
   "id": "c59bb858",
   "metadata": {},
   "outputs": [],
   "source": [
    "# question no.42\n",
    "\n",
    "# With a given tuple (1,2,3,4,5,6,7,8,9,10), write a program to print the first \n",
    "# half values in one line and the last half values in one line. \n",
    "a=(1,2,3,4,5,6,7,8,9,10)\n",
    "b=len(a)/2\n",
    "print(\"first half\")\n",
    "for i in range(0,len(a)//2):\n",
    "    print(a[i],end='')\n",
    "print(\"\\nsecond half\")\n",
    "for i in range(len(a)//2,len(a)):\n",
    "    print(a[i],end='')"
   ]
  }
 ],
 "metadata": {
  "kernelspec": {
   "display_name": "Python 3",
   "language": "python",
   "name": "python3"
  },
  "language_info": {
   "codemirror_mode": {
    "name": "ipython",
    "version": 3
   },
   "file_extension": ".py",
   "mimetype": "text/x-python",
   "name": "python",
   "nbconvert_exporter": "python",
   "pygments_lexer": "ipython3",
   "version": "3.8.8"
  }
 },
 "nbformat": 4,
 "nbformat_minor": 5
}
