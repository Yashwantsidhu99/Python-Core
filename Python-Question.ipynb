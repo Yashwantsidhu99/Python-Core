{
 "cells": [
  {
   "cell_type": "code",
   "execution_count": null,
   "id": "0cf82ffd",
   "metadata": {},
   "outputs": [],
   "source": [
    "# Write a program which will find all such numbers which are divisible by 7 but\n",
    "# are not a multiple of 5, between 2000 and 3200 (both included). The numbers \n",
    "# obtained should be printed in a comma-separated sequence on a single lineWrite\n",
    "# a program which will find all such numbers which are divisible by 7 but are not \n",
    "# a multiple of 5, between 2000 and 3200 (both included). The numbers obtained should \n",
    "# be printed in a comma-separated sequence on a single line\n",
    "for i in range(2000,2300+1):\n",
    "    if(i%7==0 and i%5!=0):\n",
    "        print(i,end=\",\")"
   ]
  }
 ],
 "metadata": {
  "kernelspec": {
   "display_name": "Python 3",
   "language": "python",
   "name": "python3"
  },
  "language_info": {
   "codemirror_mode": {
    "name": "ipython",
    "version": 3
   },
   "file_extension": ".py",
   "mimetype": "text/x-python",
   "name": "python",
   "nbconvert_exporter": "python",
   "pygments_lexer": "ipython3",
   "version": "3.8.8"
  }
 },
 "nbformat": 4,
 "nbformat_minor": 5
}
