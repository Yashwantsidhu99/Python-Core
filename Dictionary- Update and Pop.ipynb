{
 "cells": [
  {
   "cell_type": "code",
   "execution_count": null,
   "id": "dd5d0573",
   "metadata": {},
   "outputs": [],
   "source": [
    "# question no.100\n",
    "# Create a dictionary with phone numbers (phonebook = {“John”: 938477566, \"Jack”: 938377264, \"Jill”: 947662781}).\n",
    "# Add \"Jake\"to the phonebook with the phone number 938273443, and remove Jill from the phonebook.\n",
    "Phonebook={\"John\": 938477566,\"jack\":938377264, \"Jill\": 947662781}\n",
    "print(Phonebook)\n",
    "a={\"jake\":938273443}\n",
    "Phonebook.update(a)\n",
    "print(Phonebook)\n",
    "Phonebook.pop(\"Jill\")\n",
    "print(Phonebook)"
   ]
  }
 ],
 "metadata": {
  "kernelspec": {
   "display_name": "Python 3",
   "language": "python",
   "name": "python3"
  },
  "language_info": {
   "codemirror_mode": {
    "name": "ipython",
    "version": 3
   },
   "file_extension": ".py",
   "mimetype": "text/x-python",
   "name": "python",
   "nbconvert_exporter": "python",
   "pygments_lexer": "ipython3",
   "version": "3.8.8"
  }
 },
 "nbformat": 4,
 "nbformat_minor": 5
}
