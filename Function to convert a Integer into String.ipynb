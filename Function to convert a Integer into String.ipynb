{
 "cells": [
  {
   "cell_type": "code",
   "execution_count": null,
   "id": "3d1a20b6",
   "metadata": {},
   "outputs": [],
   "source": [
    "# question no.27 \n",
    "\n",
    "# Define a function that can convert a integer into a string and print it in console.\n",
    "def its():\n",
    "    s=int(input(\"enter a number to convert it into strings\"))\n",
    "    f=str(s)\n",
    "    return f\n",
    "its()\n",
    "\n",
    "    "
   ]
  }
 ],
 "metadata": {
  "kernelspec": {
   "display_name": "Python 3",
   "language": "python",
   "name": "python3"
  },
  "language_info": {
   "codemirror_mode": {
    "name": "ipython",
    "version": 3
   },
   "file_extension": ".py",
   "mimetype": "text/x-python",
   "name": "python",
   "nbconvert_exporter": "python",
   "pygments_lexer": "ipython3",
   "version": "3.8.8"
  }
 },
 "nbformat": 4,
 "nbformat_minor": 5
}
