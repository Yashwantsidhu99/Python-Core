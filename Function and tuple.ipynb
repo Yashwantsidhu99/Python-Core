{
 "cells": [
  {
   "cell_type": "code",
   "execution_count": null,
   "id": "4b9af304",
   "metadata": {},
   "outputs": [],
   "source": [
    "# question no.41\n",
    "\n",
    "# Define a function which can generate and print a tuple where the value are square\n",
    "# of numbers between 1 and 20 (both included). \n",
    "def sql():\n",
    "    l= [n**2 for n in range(1,21)]\n",
    "    return tuple(l)\n",
    "sql()"
   ]
  }
 ],
 "metadata": {
  "kernelspec": {
   "display_name": "Python 3",
   "language": "python",
   "name": "python3"
  },
  "language_info": {
   "codemirror_mode": {
    "name": "ipython",
    "version": 3
   },
   "file_extension": ".py",
   "mimetype": "text/x-python",
   "name": "python",
   "nbconvert_exporter": "python",
   "pygments_lexer": "ipython3",
   "version": "3.8.8"
  }
 },
 "nbformat": 4,
 "nbformat_minor": 5
}
