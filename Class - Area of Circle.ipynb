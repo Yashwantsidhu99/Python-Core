{
 "cells": [
  {
   "cell_type": "code",
   "execution_count": null,
   "id": "cae659cf",
   "metadata": {},
   "outputs": [],
   "source": [
    "# question no.52\n",
    "\n",
    "# Define a class named Circle which can be constructed by a radius.\n",
    "# The Circle class has a method which can compute the area. \n",
    "class circle:\n",
    "    def __init__(self,r):\n",
    "        self.r=r\n",
    "    def area(self):\n",
    "        return 3.14*self.r*self.r\n",
    "a=circle(2)    \n",
    "a.area()"
   ]
  }
 ],
 "metadata": {
  "kernelspec": {
   "display_name": "Python 3",
   "language": "python",
   "name": "python3"
  },
  "language_info": {
   "codemirror_mode": {
    "name": "ipython",
    "version": 3
   },
   "file_extension": ".py",
   "mimetype": "text/x-python",
   "name": "python",
   "nbconvert_exporter": "python",
   "pygments_lexer": "ipython3",
   "version": "3.8.8"
  }
 },
 "nbformat": 4,
 "nbformat_minor": 5
}
