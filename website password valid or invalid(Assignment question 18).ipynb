{
 "cells": [
  {
   "cell_type": "code",
   "execution_count": null,
   "id": "aee24065",
   "metadata": {},
   "outputs": [],
   "source": [
    "# A website requires the users to input username and password to register.\n",
    "# Write a program to check the validity of password input by users. \n",
    "# Following are the criteria for checking the password: \n",
    "# 1. At least 1 letter between [a-z] \n",
    "# 2. At least 1 number between [0-9] \n",
    "# 1. At least 1 letter between [A-Z] \n",
    "# 3. At least 1 character from [$#@] \n",
    "# 4. Minimum length of transaction password: 6 \n",
    "# 5. Maximum length of transaction password: 12 \n",
    "c=0\n",
    "v=0\n",
    "e=0\n",
    "f=0\n",
    "d=[]\n",
    "n=int(input(\"how many password u want to check: \"))\n",
    "for i in range(n):\n",
    "    p=input(\"enter password: \")\n",
    "    d.append(p)\n",
    "        \n",
    "print(d)\n",
    "for i in d:\n",
    "    if(len(i)>=6 and len(i)<=12):\n",
    "        for j in i:\n",
    "            if(j.isupper()):\n",
    "                c=c+1\n",
    "            elif(j.islower()):\n",
    "                e=e+1\n",
    "            elif(j.isdigit()):\n",
    "                v=v+1\n",
    "            elif(j==\"@\" or j==\"$\" or j==\"#\"):\n",
    "                f=f+1\n",
    "        if(c>0 and e>0 and v>0 and f>0):\n",
    "            print(i,\" password is valid \")\n",
    "        else:\n",
    "            print(i,\" password is invalid\")"
   ]
  }
 ],
 "metadata": {
  "kernelspec": {
   "display_name": "Python 3",
   "language": "python",
   "name": "python3"
  },
  "language_info": {
   "codemirror_mode": {
    "name": "ipython",
    "version": 3
   },
   "file_extension": ".py",
   "mimetype": "text/x-python",
   "name": "python",
   "nbconvert_exporter": "python",
   "pygments_lexer": "ipython3",
   "version": "3.8.8"
  }
 },
 "nbformat": 4,
 "nbformat_minor": 5
}
