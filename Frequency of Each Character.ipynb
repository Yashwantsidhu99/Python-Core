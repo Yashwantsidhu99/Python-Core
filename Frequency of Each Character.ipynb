{
 "cells": [
  {
   "cell_type": "code",
   "execution_count": null,
   "id": "09688f3b",
   "metadata": {},
   "outputs": [],
   "source": [
    "# question no.95\n",
    "# Please write a program which count and print the numbers of each character \n",
    "# in a string input by console.\n",
    "b=\"abcdefgabc \"\n",
    "{x:b.count(x) for x in b}"
   ]
  }
 ],
 "metadata": {
  "kernelspec": {
   "display_name": "Python 3",
   "language": "python",
   "name": "python3"
  },
  "language_info": {
   "codemirror_mode": {
    "name": "ipython",
    "version": 3
   },
   "file_extension": ".py",
   "mimetype": "text/x-python",
   "name": "python",
   "nbconvert_exporter": "python",
   "pygments_lexer": "ipython3",
   "version": "3.8.8"
  }
 },
 "nbformat": 4,
 "nbformat_minor": 5
}
