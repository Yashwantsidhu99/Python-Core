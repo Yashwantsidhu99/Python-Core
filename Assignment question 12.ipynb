{
 "cells": [
  {
   "cell_type": "code",
   "execution_count": null,
   "id": "ca46f77b",
   "metadata": {},
   "outputs": [],
   "source": [
    "# Write a program, which will find all such numbers between 1000 and 3000 (both included)\n",
    "# such that each digit of the number is an even number. \n",
    "\n",
    "for i in range(1000,3001):\n",
    "    a=str(i)\n",
    "    if(int(a[0])%2==0 and int(a[1])%2==0 and int(a[2])%2==0 and int(a[3])%2==0):\n",
    "        print(a)"
   ]
  }
 ],
 "metadata": {
  "kernelspec": {
   "display_name": "Python 3",
   "language": "python",
   "name": "python3"
  },
  "language_info": {
   "codemirror_mode": {
    "name": "ipython",
    "version": 3
   },
   "file_extension": ".py",
   "mimetype": "text/x-python",
   "name": "python",
   "nbconvert_exporter": "python",
   "pygments_lexer": "ipython3",
   "version": "3.8.8"
  }
 },
 "nbformat": 4,
 "nbformat_minor": 5
}
