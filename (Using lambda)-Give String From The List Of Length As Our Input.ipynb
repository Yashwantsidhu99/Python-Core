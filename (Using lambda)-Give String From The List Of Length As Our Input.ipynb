{
 "cells": [
  {
   "cell_type": "code",
   "execution_count": null,
   "id": "28a83d40",
   "metadata": {},
   "outputs": [],
   "source": [
    "# Give String From The List Of Length As Our Input\n",
    "n=int(input())\n",
    "list(filter(lambda x: x if(len(x)==n) else '',['Python', 'list', 'exercises', 'practice', 'solution']))"
   ]
  }
 ],
 "metadata": {
  "kernelspec": {
   "display_name": "Python 3",
   "language": "python",
   "name": "python3"
  },
  "language_info": {
   "codemirror_mode": {
    "name": "ipython",
    "version": 3
   },
   "file_extension": ".py",
   "mimetype": "text/x-python",
   "name": "python",
   "nbconvert_exporter": "python",
   "pygments_lexer": "ipython3",
   "version": "3.8.8"
  }
 },
 "nbformat": 4,
 "nbformat_minor": 5
}
