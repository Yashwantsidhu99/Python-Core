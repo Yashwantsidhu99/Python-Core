{
 "cells": [
  {
   "cell_type": "code",
   "execution_count": null,
   "id": "96d8df13",
   "metadata": {},
   "outputs": [],
   "source": [
    "# Write a program which accepts a sequence of comma separated 4 digit binary numbers\n",
    "# as its input and then check whether they are divisible by 5 or not.\n",
    "# The numbers that are divisible by 5 are to be printed in a comma separated sequence. \n",
    "\n",
    "n=input(\"enter binary numbers: \").split(\",\")\n",
    "print(n)\n",
    "for i in n:\n",
    "    if((int(i,2))%5==0):\n",
    "        print(i)\n",
    "    "
   ]
  }
 ],
 "metadata": {
  "kernelspec": {
   "display_name": "Python 3",
   "language": "python",
   "name": "python3"
  },
  "language_info": {
   "codemirror_mode": {
    "name": "ipython",
    "version": 3
   },
   "file_extension": ".py",
   "mimetype": "text/x-python",
   "name": "python",
   "nbconvert_exporter": "python",
   "pygments_lexer": "ipython3",
   "version": "3.8.8"
  }
 },
 "nbformat": 4,
 "nbformat_minor": 5
}
