{
 "cells": [
  {
   "cell_type": "code",
   "execution_count": null,
   "id": "25df8fcc",
   "metadata": {},
   "outputs": [],
   "source": [
    "# question no.82\n",
    "\n",
    "# 82. Please write a program to print the running time of execution of \"1+1\" \n",
    "# for 100 times. \n",
    "import timeit\n",
    "for i in range(0,100):\n",
    "    print(\"1+1\")\n",
    "print(timeit.timeit())    "
   ]
  }
 ],
 "metadata": {
  "kernelspec": {
   "display_name": "Python 3",
   "language": "python",
   "name": "python3"
  },
  "language_info": {
   "codemirror_mode": {
    "name": "ipython",
    "version": 3
   },
   "file_extension": ".py",
   "mimetype": "text/x-python",
   "name": "python",
   "nbconvert_exporter": "python",
   "pygments_lexer": "ipython3",
   "version": "3.8.8"
  }
 },
 "nbformat": 4,
 "nbformat_minor": 5
}
