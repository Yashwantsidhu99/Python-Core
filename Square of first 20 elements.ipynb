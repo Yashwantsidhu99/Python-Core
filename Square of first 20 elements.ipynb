{
 "cells": [
  {
   "cell_type": "code",
   "execution_count": null,
   "id": "99752c6d",
   "metadata": {},
   "outputs": [],
   "source": [
    "# question no.34\n",
    "\n",
    "# Define a function which can print a dictionary where\n",
    "# the keys are numbers between 1 and 20 (both included) and the values are\n",
    "# square of keys. \n",
    "def square():\n",
    "    return {a:a**2 for a in range(1,21)}\n",
    "square()"
   ]
  }
 ],
 "metadata": {
  "kernelspec": {
   "display_name": "Python 3",
   "language": "python",
   "name": "python3"
  },
  "language_info": {
   "codemirror_mode": {
    "name": "ipython",
    "version": 3
   },
   "file_extension": ".py",
   "mimetype": "text/x-python",
   "name": "python",
   "nbconvert_exporter": "python",
   "pygments_lexer": "ipython3",
   "version": "3.8.8"
  }
 },
 "nbformat": 4,
 "nbformat_minor": 5
}
