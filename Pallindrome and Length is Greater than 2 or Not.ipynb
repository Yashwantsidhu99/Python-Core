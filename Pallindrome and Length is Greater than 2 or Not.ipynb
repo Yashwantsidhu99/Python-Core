{
 "cells": [
  {
   "cell_type": "code",
   "execution_count": null,
   "id": "2d1a67ce",
   "metadata": {},
   "outputs": [],
   "source": [
    "# Pallindrome and Length is Greater than 2 or Not\n",
    "c=0\n",
    "d=[\"abc\",\"xyz\",\"aba\",\"1221\"]\n",
    "for i in d:\n",
    "    if(len(i)>=2 and i==i[::-1]):\n",
    "        c=c+1\n",
    "        print(i)\n",
    "print(c)        "
   ]
  }
 ],
 "metadata": {
  "kernelspec": {
   "display_name": "Python 3",
   "language": "python",
   "name": "python3"
  },
  "language_info": {
   "codemirror_mode": {
    "name": "ipython",
    "version": 3
   },
   "file_extension": ".py",
   "mimetype": "text/x-python",
   "name": "python",
   "nbconvert_exporter": "python",
   "pygments_lexer": "ipython3",
   "version": "3.8.8"
  }
 },
 "nbformat": 4,
 "nbformat_minor": 5
}
