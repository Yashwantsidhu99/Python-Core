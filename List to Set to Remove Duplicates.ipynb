{
 "cells": [
  {
   "cell_type": "code",
   "execution_count": null,
   "id": "e923574a",
   "metadata": {},
   "outputs": [],
   "source": [
    "# question no.91\n",
    "# By using list comprehension, please write a program to print\n",
    "# the list after removing the value 24 in [12,24,35,24,88,120,155].\n",
    "a= [12,24,35,24,88,120,155]\n",
    "{i for i in a}"
   ]
  }
 ],
 "metadata": {
  "kernelspec": {
   "display_name": "Python 3",
   "language": "python",
   "name": "python3"
  },
  "language_info": {
   "codemirror_mode": {
    "name": "ipython",
    "version": 3
   },
   "file_extension": ".py",
   "mimetype": "text/x-python",
   "name": "python",
   "nbconvert_exporter": "python",
   "pygments_lexer": "ipython3",
   "version": "3.8.8"
  }
 },
 "nbformat": 4,
 "nbformat_minor": 5
}
