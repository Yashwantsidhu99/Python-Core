{
 "cells": [
  {
   "cell_type": "code",
   "execution_count": null,
   "id": "7f0e2c3b",
   "metadata": {},
   "outputs": [],
   "source": [
    "# question no.31\n",
    "\n",
    "# Define a function that can accept two strings as input \n",
    "# and print the string with maximum length in console. If two strings \n",
    "# have the same length, then the function should print all strings line by line. \n",
    "def tstr():\n",
    "    a=input(\"enter two strings: \").split(\",\")\n",
    "    if(len(a[0])==len(a[1])):\n",
    "        print(\"Both strings are equal in length\")\n",
    "        for i in a:\n",
    "            print(i)\n",
    "    else:\n",
    "        print(max(a))\n",
    "tstr()    "
   ]
  }
 ],
 "metadata": {
  "kernelspec": {
   "display_name": "Python 3",
   "language": "python",
   "name": "python3"
  },
  "language_info": {
   "codemirror_mode": {
    "name": "ipython",
    "version": 3
   },
   "file_extension": ".py",
   "mimetype": "text/x-python",
   "name": "python",
   "nbconvert_exporter": "python",
   "pygments_lexer": "ipython3",
   "version": "3.8.8"
  }
 },
 "nbformat": 4,
 "nbformat_minor": 5
}
