{
 "cells": [
  {
   "cell_type": "code",
   "execution_count": null,
   "id": "2591efcd",
   "metadata": {},
   "outputs": [],
   "source": [
    "# Questions 98\n",
    "# Please write a program which prints all permutations of [1, 2, 3] \n",
    "# Hints: Use itertools.permutations() to get permutations of list. \n",
    "import itertools as t\n",
    "a=[1,2,3]\n",
    "q=t.permutations(a)\n",
    "for i in q:\n",
    "    print(i)"
   ]
  }
 ],
 "metadata": {
  "kernelspec": {
   "display_name": "Python 3",
   "language": "python",
   "name": "python3"
  },
  "language_info": {
   "codemirror_mode": {
    "name": "ipython",
    "version": 3
   },
   "file_extension": ".py",
   "mimetype": "text/x-python",
   "name": "python",
   "nbconvert_exporter": "python",
   "pygments_lexer": "ipython3",
   "version": "3.8.8"
  }
 },
 "nbformat": 4,
 "nbformat_minor": 5
}
