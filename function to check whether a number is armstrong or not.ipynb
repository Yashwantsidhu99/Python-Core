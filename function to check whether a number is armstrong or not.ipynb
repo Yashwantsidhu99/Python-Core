{
 "cells": [
  {
   "cell_type": "code",
   "execution_count": null,
   "id": "24c355e0",
   "metadata": {},
   "outputs": [],
   "source": [
    "# function to check whether a number is armstrong or not\n",
    "def pall(n):\n",
    "    global a\n",
    "    a=0\n",
    "    v=n\n",
    "    while(n>0):\n",
    "        i=n%10\n",
    "        n=n//10\n",
    "        a=a+pow(i,3)\n",
    "    if(v==a):\n",
    "        print(\"number is armstrong\")\n",
    "        \n",
    "    else:\n",
    "        print(\"number is not armstrong\")\n",
    "    print(a)\n",
    "pall(int(input(\"enter a nnumber to whether a number is pallindrom or not\")))\n"
   ]
  },
  {
   "cell_type": "code",
   "execution_count": null,
   "id": "ce28266f",
   "metadata": {},
   "outputs": [],
   "source": []
  }
 ],
 "metadata": {
  "kernelspec": {
   "display_name": "Python 3",
   "language": "python",
   "name": "python3"
  },
  "language_info": {
   "codemirror_mode": {
    "name": "ipython",
    "version": 3
   },
   "file_extension": ".py",
   "mimetype": "text/x-python",
   "name": "python",
   "nbconvert_exporter": "python",
   "pygments_lexer": "ipython3",
   "version": "3.8.8"
  }
 },
 "nbformat": 4,
 "nbformat_minor": 5
}
