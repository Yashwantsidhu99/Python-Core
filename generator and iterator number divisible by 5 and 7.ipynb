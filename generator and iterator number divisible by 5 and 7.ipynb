{
 "cells": [
  {
   "cell_type": "code",
   "execution_count": 2,
   "id": "0c4eba36",
   "metadata": {},
   "outputs": [],
   "source": [
    "#question no.68\n",
    "\n",
    "# Please write a program using generator to print the numbers which can be divisible by 5\n",
    "# and 7 between 0 and n in comma separated form while n is input by console. \n",
    "# If the following n is given as input to the program: 100 \n",
    "def divide():\n",
    "    n=int(input(\"enter a number\"))\n",
    "    d=[]\n",
    "    for i in range(0,n+1):\n",
    "        if(i%5==0 and i%7==0):\n",
    "            d.append(i)\n",
    "            yield d\n",
    "divide() \n",
    "a=iter(divide())"
   ]
  },
  {
   "cell_type": "code",
   "execution_count": 4,
   "id": "fc59835d",
   "metadata": {},
   "outputs": [
    {
     "ename": "StopIteration",
     "evalue": "",
     "output_type": "error",
     "traceback": [
      "\u001b[1;31m---------------------------------------------------------------------------\u001b[0m",
      "\u001b[1;31mStopIteration\u001b[0m                             Traceback (most recent call last)",
      "\u001b[1;32m<ipython-input-4-15841f3f11d4>\u001b[0m in \u001b[0;36m<module>\u001b[1;34m\u001b[0m\n\u001b[1;32m----> 1\u001b[1;33m \u001b[0mnext\u001b[0m\u001b[1;33m(\u001b[0m\u001b[0ma\u001b[0m\u001b[1;33m)\u001b[0m\u001b[1;33m\u001b[0m\u001b[1;33m\u001b[0m\u001b[0m\n\u001b[0m",
      "\u001b[1;31mStopIteration\u001b[0m: "
     ]
    }
   ],
   "source": [
    "next(a)"
   ]
  }
 ],
 "metadata": {
  "kernelspec": {
   "display_name": "Python 3",
   "language": "python",
   "name": "python3"
  },
  "language_info": {
   "codemirror_mode": {
    "name": "ipython",
    "version": 3
   },
   "file_extension": ".py",
   "mimetype": "text/x-python",
   "name": "python",
   "nbconvert_exporter": "python",
   "pygments_lexer": "ipython3",
   "version": "3.8.8"
  }
 },
 "nbformat": 4,
 "nbformat_minor": 5
}
