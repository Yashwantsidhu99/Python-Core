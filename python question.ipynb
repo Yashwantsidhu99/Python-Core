{
 "cells": [
  {
   "cell_type": "code",
   "execution_count": null,
   "id": "34a4a7d0",
   "metadata": {},
   "outputs": [],
   "source": [
    "#Write a program that calculates and prints the value according to the given formula: \n",
    "#Q = Square root of [(2 * C * D)/H] \n",
    "#Following are the fixed values of C and H: C is 50. H is 30\n",
    "import math\n",
    "d=int(input(\"enter number: \"))\n",
    "c=50\n",
    "h=30\n",
    "q=math.sqrt((2*c*d)/h)\n",
    "print(round(q)) "
   ]
  }
 ],
 "metadata": {
  "kernelspec": {
   "display_name": "Python 3",
   "language": "python",
   "name": "python3"
  },
  "language_info": {
   "codemirror_mode": {
    "name": "ipython",
    "version": 3
   },
   "file_extension": ".py",
   "mimetype": "text/x-python",
   "name": "python",
   "nbconvert_exporter": "python",
   "pygments_lexer": "ipython3",
   "version": "3.8.8"
  }
 },
 "nbformat": 4,
 "nbformat_minor": 5
}
