{
 "cells": [
  {
   "cell_type": "code",
   "execution_count": null,
   "id": "19626b9e",
   "metadata": {},
   "outputs": [],
   "source": [
    "# question no.46\n",
    "\n",
    "# Write a program which can map() to make a list whose elements are\n",
    "# square of elements in [1,2,3,4,5,6,7,8,9,10].\n",
    "a=[]\n",
    "for i in range(1,21):\n",
    "    a.append(i)\n",
    "list(map(lambda x:x**2,a))"
   ]
  }
 ],
 "metadata": {
  "kernelspec": {
   "display_name": "Python 3",
   "language": "python",
   "name": "python3"
  },
  "language_info": {
   "codemirror_mode": {
    "name": "ipython",
    "version": 3
   },
   "file_extension": ".py",
   "mimetype": "text/x-python",
   "name": "python",
   "nbconvert_exporter": "python",
   "pygments_lexer": "ipython3",
   "version": "3.8.8"
  }
 },
 "nbformat": 4,
 "nbformat_minor": 5
}
