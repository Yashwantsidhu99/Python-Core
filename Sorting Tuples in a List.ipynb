{
 "cells": [
  {
   "cell_type": "code",
   "execution_count": null,
   "id": "4943687d",
   "metadata": {},
   "outputs": [],
   "source": [
    "# Sorting Tuples in a List\n",
    "a=[(2, 5), (1, 2), (4, 4), (2, 3), (2, 1)]\n",
    "a\n",
    "a.sort()\n",
    "a"
   ]
  }
 ],
 "metadata": {
  "kernelspec": {
   "display_name": "Python 3",
   "language": "python",
   "name": "python3"
  },
  "language_info": {
   "codemirror_mode": {
    "name": "ipython",
    "version": 3
   },
   "file_extension": ".py",
   "mimetype": "text/x-python",
   "name": "python",
   "nbconvert_exporter": "python",
   "pygments_lexer": "ipython3",
   "version": "3.8.8"
  }
 },
 "nbformat": 4,
 "nbformat_minor": 5
}
