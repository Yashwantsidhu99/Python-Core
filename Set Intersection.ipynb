{
 "cells": [
  {
   "cell_type": "code",
   "execution_count": 1,
   "id": "9f65b300",
   "metadata": {},
   "outputs": [
    {
     "data": {
      "text/plain": [
       "{35}"
      ]
     },
     "execution_count": 1,
     "metadata": {},
     "output_type": "execute_result"
    }
   ],
   "source": [
    "# question no.92\n",
    "# With two given lists [1,3,6,78,35,55] and [12,24,35,24,88,120,155], write a program to \n",
    "# make a list whoseelements are intersection of the above given lists.\n",
    "a=[1,3,6,78,35,55] \n",
    "b=[12,24,35,24,88,120,155]\n",
    "set(b).intersection(set(a))"
   ]
  }
 ],
 "metadata": {
  "kernelspec": {
   "display_name": "Python 3",
   "language": "python",
   "name": "python3"
  },
  "language_info": {
   "codemirror_mode": {
    "name": "ipython",
    "version": 3
   },
   "file_extension": ".py",
   "mimetype": "text/x-python",
   "name": "python",
   "nbconvert_exporter": "python",
   "pygments_lexer": "ipython3",
   "version": "3.8.8"
  }
 },
 "nbformat": 4,
 "nbformat_minor": 5
}
