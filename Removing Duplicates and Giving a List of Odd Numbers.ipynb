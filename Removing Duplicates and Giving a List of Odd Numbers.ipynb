{
 "cells": [
  {
   "cell_type": "code",
   "execution_count": null,
   "id": "a8fdef10",
   "metadata": {},
   "outputs": [],
   "source": [
    "# Removing Duplicates and Giving a List of Odd Numbers.\n",
    "a=[1,2,3,4,5,6,8,23,12]\n",
    "x=set()\n",
    "for i in a:\n",
    "    if(i%2!=0):\n",
    "        x.add(i)\n",
    "print(x)        \n",
    "        "
   ]
  }
 ],
 "metadata": {
  "kernelspec": {
   "display_name": "Python 3",
   "language": "python",
   "name": "python3"
  },
  "language_info": {
   "codemirror_mode": {
    "name": "ipython",
    "version": 3
   },
   "file_extension": ".py",
   "mimetype": "text/x-python",
   "name": "python",
   "nbconvert_exporter": "python",
   "pygments_lexer": "ipython3",
   "version": "3.8.8"
  }
 },
 "nbformat": 4,
 "nbformat_minor": 5
}
