{
 "cells": [
  {
   "cell_type": "code",
   "execution_count": 1,
   "id": "b6d0742e",
   "metadata": {},
   "outputs": [
    {
     "data": {
      "text/plain": [
       "[1, 4, 9, 16, 25, 36, 49, 64, 81, 100]"
      ]
     },
     "execution_count": 1,
     "metadata": {},
     "output_type": "execute_result"
    }
   ],
   "source": [
    "# question no.47\n",
    "\n",
    "# Write a program which can map() and filter() to make a list whose elements are\n",
    "# square of even number in [1,2,3,4,5,6,7,8,9,10]. \n",
    "\n",
    "list(map(lambda x:x**2,[1,2,3,4,5,6,7,8,9,10]))\n"
   ]
  }
 ],
 "metadata": {
  "kernelspec": {
   "display_name": "Python 3",
   "language": "python",
   "name": "python3"
  },
  "language_info": {
   "codemirror_mode": {
    "name": "ipython",
    "version": 3
   },
   "file_extension": ".py",
   "mimetype": "text/x-python",
   "name": "python",
   "nbconvert_exporter": "python",
   "pygments_lexer": "ipython3",
   "version": "3.8.8"
  }
 },
 "nbformat": 4,
 "nbformat_minor": 5
}
