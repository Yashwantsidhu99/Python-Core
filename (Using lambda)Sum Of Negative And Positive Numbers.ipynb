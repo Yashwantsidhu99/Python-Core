{
 "cells": [
  {
   "cell_type": "code",
   "execution_count": null,
   "id": "f6bd8d38",
   "metadata": {},
   "outputs": [],
   "source": [
    "# question no.23\n",
    "# Sum Of Negative And Positive Numbers Using lambda function.\n",
    "d=[]\n",
    "c=[]\n",
    "list(map(lambda x:d.append(x) if(x>0) else c.append(x), [2, 4, -6, -9, 11, -12, 14, -5, 17]))\n",
    "print(sum(d))\n",
    "print(sum(c))"
   ]
  }
 ],
 "metadata": {
  "kernelspec": {
   "display_name": "Python 3",
   "language": "python",
   "name": "python3"
  },
  "language_info": {
   "codemirror_mode": {
    "name": "ipython",
    "version": 3
   },
   "file_extension": ".py",
   "mimetype": "text/x-python",
   "name": "python",
   "nbconvert_exporter": "python",
   "pygments_lexer": "ipython3",
   "version": "3.8.8"
  }
 },
 "nbformat": 4,
 "nbformat_minor": 5
}
