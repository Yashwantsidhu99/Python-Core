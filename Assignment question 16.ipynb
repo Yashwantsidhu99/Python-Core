{
 "cells": [
  {
   "cell_type": "code",
   "execution_count": null,
   "id": "9bc6f719",
   "metadata": {},
   "outputs": [],
   "source": [
    "# Use a list comprehension to square each odd number in a list.\n",
    "# The list is input by a sequence of comma-separated numbers. \n",
    "l=[1,2,3,5,6,7,8,9]\n",
    "s=[i*i for i in l if i%2!=0 ]\n",
    "print(s)"
   ]
  }
 ],
 "metadata": {
  "kernelspec": {
   "display_name": "Python 3",
   "language": "python",
   "name": "python3"
  },
  "language_info": {
   "codemirror_mode": {
    "name": "ipython",
    "version": 3
   },
   "file_extension": ".py",
   "mimetype": "text/x-python",
   "name": "python",
   "nbconvert_exporter": "python",
   "pygments_lexer": "ipython3",
   "version": "3.8.8"
  }
 },
 "nbformat": 4,
 "nbformat_minor": 5
}
