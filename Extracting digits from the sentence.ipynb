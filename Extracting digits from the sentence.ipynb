{
 "cells": [
  {
   "cell_type": "code",
   "execution_count": null,
   "id": "75e61b1a",
   "metadata": {},
   "outputs": [],
   "source": [
    "# question no.59\n",
    "\n",
    "# Write a program which accepts a sequence of words \n",
    "# separated by whitespace as input to print the words composed of digits only.\n",
    "p=input(\"enter the string: \")\n",
    "a=p.split(\" \")\n",
    "d=[]\n",
    "for i in a:\n",
    "    if(i.isdigit()):\n",
    "        d.append(i)\n",
    "print(d)        "
   ]
  }
 ],
 "metadata": {
  "kernelspec": {
   "display_name": "Python 3",
   "language": "python",
   "name": "python3"
  },
  "language_info": {
   "codemirror_mode": {
    "name": "ipython",
    "version": 3
   },
   "file_extension": ".py",
   "mimetype": "text/x-python",
   "name": "python",
   "nbconvert_exporter": "python",
   "pygments_lexer": "ipython3",
   "version": "3.8.8"
  }
 },
 "nbformat": 4,
 "nbformat_minor": 5
}
