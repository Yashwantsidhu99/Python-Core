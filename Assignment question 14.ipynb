{
 "cells": [
  {
   "cell_type": "code",
   "execution_count": null,
   "id": "2429194f",
   "metadata": {},
   "outputs": [],
   "source": [
    "# Write a program that accepts a sentence and calculate the\n",
    "# number of upper case letters and lower case letters. \n",
    "a=input(\"enter something\")\n",
    "c=0\n",
    "d=0\n",
    "for i in a:\n",
    "    if(i.isupper()):\n",
    "        c=c+1\n",
    "    elif(i.islower()):\n",
    "        d=d+1\n",
    "print(len(a))\n",
    "print(\"no. of upper case is {}\".format(c))\n",
    "print(\"no of lower case is {}\".format(d))"
   ]
  }
 ],
 "metadata": {
  "kernelspec": {
   "display_name": "Python 3",
   "language": "python",
   "name": "python3"
  },
  "language_info": {
   "codemirror_mode": {
    "name": "ipython",
    "version": 3
   },
   "file_extension": ".py",
   "mimetype": "text/x-python",
   "name": "python",
   "nbconvert_exporter": "python",
   "pygments_lexer": "ipython3",
   "version": "3.8.8"
  }
 },
 "nbformat": 4,
 "nbformat_minor": 5
}
