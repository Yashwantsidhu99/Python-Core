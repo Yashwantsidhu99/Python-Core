{
 "cells": [
  {
   "cell_type": "code",
   "execution_count": null,
   "id": "66f09581",
   "metadata": {},
   "outputs": [],
   "source": [
    "# Write a program that computes the net amount of a bank account based a transaction log\n",
    "# from console input. The transaction log format is shown as following: \n",
    "# D 100 \n",
    "# W 200 \n",
    "# --D means deposit while W means withdrawal. \n",
    "# Suppose the input is supplied to the program: \n",
    "# D 300\n",
    "# D 300 \n",
    "# W 200 \n",
    "# D 100 \n",
    "# Then, the output should be: 500 \n",
    "\n",
    "d=0\n",
    "print(\"you have {} amunt in your account\".format(d))\n",
    "\n",
    "while True:\n",
    "    p=input(\"what do you  want:Withdraw money or Save money\")\n",
    "    if p:\n",
    "        if(p==\"save money\"):\n",
    "            A=int(input(\"how much amunt you want to save in youor account\"))\n",
    "            d=d+A\n",
    "        elif(p==\"withdraw money\"):\n",
    "            s=int(input(\"how much money you want to withdraw\"))\n",
    "            d=d-s\n",
    "    else:\n",
    "        break\n",
    "print(\"you left with {}rs\".format(d))\n",
    "    "
   ]
  }
 ],
 "metadata": {
  "kernelspec": {
   "display_name": "Python 3",
   "language": "python",
   "name": "python3"
  },
  "language_info": {
   "codemirror_mode": {
    "name": "ipython",
    "version": 3
   },
   "file_extension": ".py",
   "mimetype": "text/x-python",
   "name": "python",
   "nbconvert_exporter": "python",
   "pygments_lexer": "ipython3",
   "version": "3.8.8"
  }
 },
 "nbformat": 4,
 "nbformat_minor": 5
}
