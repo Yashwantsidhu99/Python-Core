{
 "cells": [
  {
   "cell_type": "code",
   "execution_count": null,
   "id": "02f4b25f",
   "metadata": {},
   "outputs": [],
   "source": [
    "# Find Duplicates in an array\n",
    "a=[2,3,1,2,3]\n",
    "d=[]\n",
    "for i in a:\n",
    "    if(a.count(i)>1):\n",
    "        d.append(i)\n",
    "d=set(d)        \n",
    "for i in d:\n",
    "    print(i)"
   ]
  }
 ],
 "metadata": {
  "kernelspec": {
   "display_name": "Python 3",
   "language": "python",
   "name": "python3"
  },
  "language_info": {
   "codemirror_mode": {
    "name": "ipython",
    "version": 3
   },
   "file_extension": ".py",
   "mimetype": "text/x-python",
   "name": "python",
   "nbconvert_exporter": "python",
   "pygments_lexer": "ipython3",
   "version": "3.8.8"
  }
 },
 "nbformat": 4,
 "nbformat_minor": 5
}
