{
 "cells": [
  {
   "cell_type": "code",
   "execution_count": null,
   "id": "2b38926b",
   "metadata": {},
   "outputs": [],
   "source": [
    "#question no.57 \n",
    "\n",
    "# Assuming that we have some email addresses in the \"username@companyname.com\" format, \n",
    "# please write program to print the user name of a given email address. Both user names\n",
    "# and company names are composed of letters only. \n",
    "a=input(\"enter your email address: \")\n",
    "k=a.index(\"@\")\n",
    "print(k)\n",
    "print(\"name of email holder: \")\n",
    "for i in range(0,k):\n",
    "    print(a[i],end=\"\")"
   ]
  }
 ],
 "metadata": {
  "kernelspec": {
   "display_name": "Python 3",
   "language": "python",
   "name": "python3"
  },
  "language_info": {
   "codemirror_mode": {
    "name": "ipython",
    "version": 3
   },
   "file_extension": ".py",
   "mimetype": "text/x-python",
   "name": "python",
   "nbconvert_exporter": "python",
   "pygments_lexer": "ipython3",
   "version": "3.8.8"
  }
 },
 "nbformat": 4,
 "nbformat_minor": 5
}
