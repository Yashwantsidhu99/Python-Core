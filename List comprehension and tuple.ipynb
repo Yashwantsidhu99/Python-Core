{
 "cells": [
  {
   "cell_type": "code",
   "execution_count": null,
   "id": "592f1697",
   "metadata": {},
   "outputs": [],
   "source": [
    "# question no.43\n",
    "\n",
    "# Write a program to generate and print another tuple whose values are even numbers\n",
    "# in the given tuple (1,2,3,4,5,6,7,8,9,10). \n",
    "a=(1,2,3,4,5,6,7,8,9,10)\n",
    "l=[i for i in a if i%2==0]\n",
    "print(tuple(l))"
   ]
  }
 ],
 "metadata": {
  "kernelspec": {
   "display_name": "Python 3",
   "language": "python",
   "name": "python3"
  },
  "language_info": {
   "codemirror_mode": {
    "name": "ipython",
    "version": 3
   },
   "file_extension": ".py",
   "mimetype": "text/x-python",
   "name": "python",
   "nbconvert_exporter": "python",
   "pygments_lexer": "ipython3",
   "version": "3.8.8"
  }
 },
 "nbformat": 4,
 "nbformat_minor": 5
}
