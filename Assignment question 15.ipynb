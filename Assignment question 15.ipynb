{
 "cells": [
  {
   "cell_type": "code",
   "execution_count": null,
   "id": "0bc929c3",
   "metadata": {},
   "outputs": [],
   "source": [
    "# Write a program that computes the value of a+aa+aaa+aaaa with a given \n",
    "# digit as the value of a. \n",
    "a=input(\"enter value\")\n",
    "n1=a*1\n",
    "n2=a*2\n",
    "n3=a*3\n",
    "n4=a*4\n",
    "t=int(n1)+int(n2)+int(n3)+int(n4)\n",
    "print(t)"
   ]
  }
 ],
 "metadata": {
  "kernelspec": {
   "display_name": "Python 3",
   "language": "python",
   "name": "python3"
  },
  "language_info": {
   "codemirror_mode": {
    "name": "ipython",
    "version": 3
   },
   "file_extension": ".py",
   "mimetype": "text/x-python",
   "name": "python",
   "nbconvert_exporter": "python",
   "pygments_lexer": "ipython3",
   "version": "3.8.8"
  }
 },
 "nbformat": 4,
 "nbformat_minor": 5
}
