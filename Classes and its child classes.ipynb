{
 "cells": [
  {
   "cell_type": "code",
   "execution_count": null,
   "id": "c4418ce3",
   "metadata": {},
   "outputs": [],
   "source": [
    "# question no.94\n",
    "# Define a class Person and its two child classes: Male and Female.\n",
    "# All classes have a method \"getGender\" which can print \"Male\" for Male class \n",
    "# and \"Female\" for Female class.\n",
    "class person:\n",
    "    def __init__(self,gender):\n",
    "        self.gender=gender\n",
    "        def getgender(self):\n",
    "            print(self.gender\n",
    "        \n",
    "class male(person):\n",
    "    def getgender(self):\n",
    "        print(self.gender)\n",
    "        \n",
    "class female(person):\n",
    "    def getgender(self):\n",
    "        print(self.gender)\n",
    "        \n",
    "a=female(\"female\") \n",
    "print(a.getgender())\n",
    "\n",
    "c=male(\"male\")\n",
    "print(c.getgender())\n",
    "        \n",
    "    \n",
    "    "
   ]
  }
 ],
 "metadata": {
  "kernelspec": {
   "display_name": "Python 3",
   "language": "python",
   "name": "python3"
  },
  "language_info": {
   "codemirror_mode": {
    "name": "ipython",
    "version": 3
   },
   "file_extension": ".py",
   "mimetype": "text/x-python",
   "name": "python",
   "nbconvert_exporter": "python",
   "pygments_lexer": "ipython3",
   "version": "3.8.8"
  }
 },
 "nbformat": 4,
 "nbformat_minor": 5
}
