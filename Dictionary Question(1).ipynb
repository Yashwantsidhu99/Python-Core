{
 "cells": [
  {
   "cell_type": "code",
   "execution_count": null,
   "id": "63753735",
   "metadata": {},
   "outputs": [],
   "source": [
    "# question no.38\n",
    "# Define a function which can generate a list where the values are square of \n",
    "# numbers between 1 and 20 (both included). Then the function needs to print the first\n",
    "# 5 elements in the list. \n",
    "def sql():\n",
    "    l= [n**2 for n in range(1,21)]\n",
    "    return(l[0:5])\n",
    "sql()"
   ]
  }
 ],
 "metadata": {
  "kernelspec": {
   "display_name": "Python 3",
   "language": "python",
   "name": "python3"
  },
  "language_info": {
   "codemirror_mode": {
    "name": "ipython",
    "version": 3
   },
   "file_extension": ".py",
   "mimetype": "text/x-python",
   "name": "python",
   "nbconvert_exporter": "python",
   "pygments_lexer": "ipython3",
   "version": "3.8.8"
  }
 },
 "nbformat": 4,
 "nbformat_minor": 5
}
