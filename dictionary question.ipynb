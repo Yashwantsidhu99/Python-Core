{
 "cells": [
  {
   "cell_type": "code",
   "execution_count": null,
   "id": "9d07d046",
   "metadata": {},
   "outputs": [],
   "source": [
    "# With a given integral number n, write a program to generate a dictionary that \n",
    "#contains (i, i*i) such that is an integral number between 1 and n (both included)\n",
    "#and then the program should print the dictionary. \n",
    "d={}\n",
    "for i in range(1,11):\n",
    "    d[i]=i*i\n",
    "print(d)    \n",
    "    "
   ]
  }
 ],
 "metadata": {
  "kernelspec": {
   "display_name": "Python 3",
   "language": "python",
   "name": "python3"
  },
  "language_info": {
   "codemirror_mode": {
    "name": "ipython",
    "version": 3
   },
   "file_extension": ".py",
   "mimetype": "text/x-python",
   "name": "python",
   "nbconvert_exporter": "python",
   "pygments_lexer": "ipython3",
   "version": "3.8.8"
  }
 },
 "nbformat": 4,
 "nbformat_minor": 5
}
