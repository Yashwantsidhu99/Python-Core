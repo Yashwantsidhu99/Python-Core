{
 "cells": [
  {
   "cell_type": "code",
   "execution_count": null,
   "id": "ddc5807f",
   "metadata": {},
   "outputs": [],
   "source": [
    "# Write a program that accepts a sequence of whitespace separated words \n",
    "# as input and prints the words after removing all duplicate words and \n",
    "# sorting them alphanumerically \n",
    "\n",
    "a=\"hello world and practice makes perfect and hello world again\"\n",
    "b=a.split(\" \")\n",
    "v=[]\n",
    "for i in b:\n",
    "    if i not in v:\n",
    "        v.append(i)\n",
    "v.sort()     \n",
    "print(v)\n",
    "f=\" \"\n",
    "for j in v:\n",
    "    f=f+j+\" \"    \n",
    "print(f) \n"
   ]
  }
 ],
 "metadata": {
  "kernelspec": {
   "display_name": "Python 3",
   "language": "python",
   "name": "python3"
  },
  "language_info": {
   "codemirror_mode": {
    "name": "ipython",
    "version": 3
   },
   "file_extension": ".py",
   "mimetype": "text/x-python",
   "name": "python",
   "nbconvert_exporter": "python",
   "pygments_lexer": "ipython3",
   "version": "3.8.8"
  }
 },
 "nbformat": 4,
 "nbformat_minor": 5
}
