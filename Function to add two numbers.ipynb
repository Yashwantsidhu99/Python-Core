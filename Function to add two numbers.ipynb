{
 "cells": [
  {
   "cell_type": "code",
   "execution_count": null,
   "id": "bad3d596",
   "metadata": {},
   "outputs": [],
   "source": [
    "# Define a function which can compute the sum of two numbers.\n",
    "def add():\n",
    "    a=int(input(\"enter number\"))\n",
    "    b=int(input(\"enter number\"))\n",
    "    c=a+b\n",
    "    return c\n",
    "add()\n",
    "    "
   ]
  }
 ],
 "metadata": {
  "kernelspec": {
   "display_name": "Python 3",
   "language": "python",
   "name": "python3"
  },
  "language_info": {
   "codemirror_mode": {
    "name": "ipython",
    "version": 3
   },
   "file_extension": ".py",
   "mimetype": "text/x-python",
   "name": "python",
   "nbconvert_exporter": "python",
   "pygments_lexer": "ipython3",
   "version": "3.8.8"
  }
 },
 "nbformat": 4,
 "nbformat_minor": 5
}
