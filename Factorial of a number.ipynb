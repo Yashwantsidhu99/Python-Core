{
 "cells": [
  {
   "cell_type": "code",
   "execution_count": null,
   "id": "c89a498c",
   "metadata": {},
   "outputs": [],
   "source": [
    "#Write a program which can compute the factorial of a given numbers.\n",
    "#The results should be printed in a comma-separated sequence on a single line. \n",
    "n=int(input(\"enter a number\"))\n",
    "f=1\n",
    "for i in range(1,n+1):\n",
    "    f=f*i\n",
    "print(f) "
   ]
  }
 ],
 "metadata": {
  "kernelspec": {
   "display_name": "Python 3",
   "language": "python",
   "name": "python3"
  },
  "language_info": {
   "codemirror_mode": {
    "name": "ipython",
    "version": 3
   },
   "file_extension": ".py",
   "mimetype": "text/x-python",
   "name": "python",
   "nbconvert_exporter": "python",
   "pygments_lexer": "ipython3",
   "version": "3.8.8"
  }
 },
 "nbformat": 4,
 "nbformat_minor": 5
}
