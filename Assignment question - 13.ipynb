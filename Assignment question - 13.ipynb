{
 "cells": [
  {
   "cell_type": "code",
   "execution_count": null,
   "id": "6ecb2bd7",
   "metadata": {},
   "outputs": [],
   "source": [
    "# Write a program that accepts a sentence and calculate the number of letters and digits. \n",
    "a=input(\"enter something\")\n",
    "c=0\n",
    "s=0\n",
    "for i in a:\n",
    "    if(i.isalpha()):\n",
    "        c=c+1\n",
    "    elif(i.isdigit()):\n",
    "        s=s+1\n",
    "print(len(a))\n",
    "print(\"no, of letter is {}\".format(c))\n",
    "print(\"no. of digit is {}\".format(s))"
   ]
  }
 ],
 "metadata": {
  "kernelspec": {
   "display_name": "Python 3",
   "language": "python",
   "name": "python3"
  },
  "language_info": {
   "codemirror_mode": {
    "name": "ipython",
    "version": 3
   },
   "file_extension": ".py",
   "mimetype": "text/x-python",
   "name": "python",
   "nbconvert_exporter": "python",
   "pygments_lexer": "ipython3",
   "version": "3.8.8"
  }
 },
 "nbformat": 4,
 "nbformat_minor": 5
}
