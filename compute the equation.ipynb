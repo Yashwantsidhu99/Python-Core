{
 "cells": [
  {
   "cell_type": "code",
   "execution_count": null,
   "id": "23f23f9d",
   "metadata": {},
   "outputs": [],
   "source": [
    "# question no.63\n",
    "\n",
    "# Write a program to compute 1/2+2/3+3/4+...+n/n+1 with a given n input by console (n>0).\n",
    "n=int(input(\"enter a number\"))\n",
    "f=0\n",
    "for i in range(1,n+1):\n",
    "    f=f+i/(i+1)\n",
    "print(f)    \n",
    "    \n",
    "    "
   ]
  }
 ],
 "metadata": {
  "kernelspec": {
   "display_name": "Python 3",
   "language": "python",
   "name": "python3"
  },
  "language_info": {
   "codemirror_mode": {
    "name": "ipython",
    "version": 3
   },
   "file_extension": ".py",
   "mimetype": "text/x-python",
   "name": "python",
   "nbconvert_exporter": "python",
   "pygments_lexer": "ipython3",
   "version": "3.8.8"
  }
 },
 "nbformat": 4,
 "nbformat_minor": 5
}
