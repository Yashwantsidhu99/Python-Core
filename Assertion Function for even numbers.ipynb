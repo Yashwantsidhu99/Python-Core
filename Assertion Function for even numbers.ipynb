{
 "cells": [
  {
   "cell_type": "code",
   "execution_count": 14,
   "id": "c00350ee",
   "metadata": {},
   "outputs": [
    {
     "name": "stdout",
     "output_type": "stream",
     "text": [
      "This is an assertion that every number in a list is Even\n"
     ]
    }
   ],
   "source": [
    "# question no.69\n",
    "# Please write assert statements to verify that every number in the list [2,4,6,8] is even.\n",
    "d=[2,4,6,8]\n",
    "print(\"This is an assertion that every number in a list is Even\")\n",
    "for i in d:\n",
    "    assert(i%2==0)"
   ]
  }
 ],
 "metadata": {
  "kernelspec": {
   "display_name": "Python 3",
   "language": "python",
   "name": "python3"
  },
  "language_info": {
   "codemirror_mode": {
    "name": "ipython",
    "version": 3
   },
   "file_extension": ".py",
   "mimetype": "text/x-python",
   "name": "python",
   "nbconvert_exporter": "python",
   "pygments_lexer": "ipython3",
   "version": "3.8.8"
  }
 },
 "nbformat": 4,
 "nbformat_minor": 5
}
