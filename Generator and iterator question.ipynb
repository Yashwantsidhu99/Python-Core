{
 "cells": [
  {
   "cell_type": "code",
   "execution_count": 1,
   "id": "db74fad4",
   "metadata": {},
   "outputs": [
    {
     "name": "stdout",
     "output_type": "stream",
     "text": [
      "enter a number10\n"
     ]
    },
    {
     "data": {
      "text/plain": [
       "[0]"
      ]
     },
     "execution_count": 1,
     "metadata": {},
     "output_type": "execute_result"
    }
   ],
   "source": [
    "# question no.67\n",
    "# Please write a program using generator to print the even numbers between 0 and n in \n",
    "# comma separated form while n is input by console. \n",
    "# Example: If the following n is given as input to the program: 10 \n",
    "# Then, the output of the program should be: 0,2,4,6,8,10 \n",
    "def even():\n",
    "    n=int(input(\"enter a number\"))\n",
    "    d=[]\n",
    "    for i in range(0,n+1):\n",
    "        if(i%2==0):\n",
    "            d.append(i)\n",
    "            yield d\n",
    "            \n",
    "        \n",
    "    \n",
    "even()\n",
    "a=iter(even())\n"
   ]
  },
  {
   "cell_type": "code",
   "execution_count": 7,
   "id": "95263a64",
   "metadata": {},
   "outputs": [
    {
     "ename": "StopIteration",
     "evalue": "",
     "output_type": "error",
     "traceback": [
      "\u001b[1;31m---------------------------------------------------------------------------\u001b[0m",
      "\u001b[1;31mStopIteration\u001b[0m                             Traceback (most recent call last)",
      "\u001b[1;32m<ipython-input-7-15841f3f11d4>\u001b[0m in \u001b[0;36m<module>\u001b[1;34m\u001b[0m\n\u001b[1;32m----> 1\u001b[1;33m \u001b[0mnext\u001b[0m\u001b[1;33m(\u001b[0m\u001b[0ma\u001b[0m\u001b[1;33m)\u001b[0m\u001b[1;33m\u001b[0m\u001b[1;33m\u001b[0m\u001b[0m\n\u001b[0m",
      "\u001b[1;31mStopIteration\u001b[0m: "
     ]
    }
   ],
   "source": [
    "next(a)"
   ]
  }
 ],
 "metadata": {
  "kernelspec": {
   "display_name": "Python 3",
   "language": "python",
   "name": "python3"
  },
  "language_info": {
   "codemirror_mode": {
    "name": "ipython",
    "version": 3
   },
   "file_extension": ".py",
   "mimetype": "text/x-python",
   "name": "python",
   "nbconvert_exporter": "python",
   "pygments_lexer": "ipython3",
   "version": "3.8.8"
  }
 },
 "nbformat": 4,
 "nbformat_minor": 5
}
