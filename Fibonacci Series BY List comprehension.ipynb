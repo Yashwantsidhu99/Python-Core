{
 "cells": [
  {
   "cell_type": "code",
   "execution_count": null,
   "id": "482ffb86",
   "metadata": {},
   "outputs": [],
   "source": [
    "# question no.67\n",
    "\n",
    "#  The Fibonacci sequence is computed based on the following formula: \n",
    "# f(n)=0 if n=0 \n",
    "# f(n)=1 if n=1 \n",
    "# f(n)=f(n-1)+f(n-2) if n>1 \n",
    "# Please write a program using list comprehension to print the Fibonacci sequence in comma \n",
    "# separated form with a given n input by console. \n",
    "# If the following n is given as input to the program: 7 \n",
    "# Then, the output of the program should be: 0, 1, 1, 2, 3, 5, 8, 13.\n",
    "def even():\n",
    "    n=int(input(\"enter a number\"))\n",
    "    d=[]\n",
    "    for i in range(0,n+1):\n",
    "        if(i%2==0):\n",
    "            d.append(i)\n",
    "            yield d\n",
    "            \n",
    "        \n",
    "    \n",
    "even()\n",
    "a=iter(even())\n"
   ]
  }
 ],
 "metadata": {
  "kernelspec": {
   "display_name": "Python 3",
   "language": "python",
   "name": "python3"
  },
  "language_info": {
   "codemirror_mode": {
    "name": "ipython",
    "version": 3
   },
   "file_extension": ".py",
   "mimetype": "text/x-python",
   "name": "python",
   "nbconvert_exporter": "python",
   "pygments_lexer": "ipython3",
   "version": "3.8.8"
  }
 },
 "nbformat": 4,
 "nbformat_minor": 5
}
