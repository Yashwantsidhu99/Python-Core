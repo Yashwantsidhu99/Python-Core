{
 "cells": [
  {
   "cell_type": "code",
   "execution_count": 1,
   "id": "0cf82ffd",
   "metadata": {},
   "outputs": [
    {
     "name": "stdout",
     "output_type": "stream",
     "text": [
      "enter string you want to change in uppercase aan is ains\n",
      "AAN IS AINS\n"
     ]
    }
   ],
   "source": [
    "#  Define a class which has at least two methods: \n",
    "# getString: to get a string from console input \n",
    "# printString: to print the string in upper case. \n",
    "\n",
    "class string:\n",
    "    def getstring(self):\n",
    "        s=input(\"enter string you want to change in uppercase \")\n",
    "        self.s=s  \n",
    "    def printstring(self):\n",
    "        a=self.s.upper()\n",
    "        print(a)\n",
    "s1=string()\n",
    "s1.getstring()\n",
    "s1.printstring()"
   ]
  }
 ],
 "metadata": {
  "kernelspec": {
   "display_name": "Python 3",
   "language": "python",
   "name": "python3"
  },
  "language_info": {
   "codemirror_mode": {
    "name": "ipython",
    "version": 3
   },
   "file_extension": ".py",
   "mimetype": "text/x-python",
   "name": "python",
   "nbconvert_exporter": "python",
   "pygments_lexer": "ipython3",
   "version": "3.8.8"
  }
 },
 "nbformat": 4,
 "nbformat_minor": 5
}
