{
 "cells": [
  {
   "cell_type": "code",
   "execution_count": null,
   "id": "403b7c0f",
   "metadata": {},
   "outputs": [],
   "source": [
    "# Write a program to compute the frequency of the words from the input. \n",
    "# The output should output after sorting the key alphanumerically.  \n",
    "k=input(\"enter the string: \")\n",
    "x=k.split()\n",
    "x.sort()\n",
    "{i:x.count(i) for i in x}"
   ]
  }
 ],
 "metadata": {
  "kernelspec": {
   "display_name": "Python 3",
   "language": "python",
   "name": "python3"
  },
  "language_info": {
   "codemirror_mode": {
    "name": "ipython",
    "version": 3
   },
   "file_extension": ".py",
   "mimetype": "text/x-python",
   "name": "python",
   "nbconvert_exporter": "python",
   "pygments_lexer": "ipython3",
   "version": "3.8.8"
  }
 },
 "nbformat": 4,
 "nbformat_minor": 5
}
