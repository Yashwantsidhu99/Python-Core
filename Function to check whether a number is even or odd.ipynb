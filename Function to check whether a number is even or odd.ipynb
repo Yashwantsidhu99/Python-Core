{
 "cells": [
  {
   "cell_type": "code",
   "execution_count": null,
   "id": "ebd77a17",
   "metadata": {},
   "outputs": [],
   "source": [
    "# question no.32\n",
    "\n",
    "# Define a function that can accept \n",
    "# an integer number as input and print the \"It is an even number\" if the number is even, \n",
    "# otherwise print \"It is an odd number\"\n",
    "def eoo():\n",
    "    a=int(input(\"enter number\"))\n",
    "    if(a%2==0):\n",
    "        return \"It is an even number\"\n",
    "    else:\n",
    "        return \"It is an odd number\"\n",
    "eoo()    "
   ]
  }
 ],
 "metadata": {
  "kernelspec": {
   "display_name": "Python 3",
   "language": "python",
   "name": "python3"
  },
  "language_info": {
   "codemirror_mode": {
    "name": "ipython",
    "version": 3
   },
   "file_extension": ".py",
   "mimetype": "text/x-python",
   "name": "python",
   "nbconvert_exporter": "python",
   "pygments_lexer": "ipython3",
   "version": "3.8.8"
  }
 },
 "nbformat": 4,
 "nbformat_minor": 5
}
