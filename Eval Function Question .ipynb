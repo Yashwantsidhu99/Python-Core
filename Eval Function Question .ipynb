{
 "cells": [
  {
   "cell_type": "code",
   "execution_count": null,
   "id": "59146129",
   "metadata": {},
   "outputs": [],
   "source": [
    "# question no.70\n",
    "# Please write a program which accepts basic \n",
    "# mathematic expression from console and print the evaluation result.\n",
    "a=input(\"enter something\")\n",
    "eval(a)"
   ]
  }
 ],
 "metadata": {
  "kernelspec": {
   "display_name": "Python 3",
   "language": "python",
   "name": "python3"
  },
  "language_info": {
   "codemirror_mode": {
    "name": "ipython",
    "version": 3
   },
   "file_extension": ".py",
   "mimetype": "text/x-python",
   "name": "python",
   "nbconvert_exporter": "python",
   "pygments_lexer": "ipython3",
   "version": "3.8.8"
  }
 },
 "nbformat": 4,
 "nbformat_minor": 5
}
