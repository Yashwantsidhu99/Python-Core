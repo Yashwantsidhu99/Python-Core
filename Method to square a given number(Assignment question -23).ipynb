{
 "cells": [
  {
   "cell_type": "code",
   "execution_count": null,
   "id": "56260273",
   "metadata": {},
   "outputs": [],
   "source": [
    "# Write a method which can calculate square value of number\n",
    "def square(n):\n",
    "    \n",
    "    return n**2\n",
    "square(int(input(\"enter number\")))"
   ]
  }
 ],
 "metadata": {
  "kernelspec": {
   "display_name": "Python 3",
   "language": "python",
   "name": "python3"
  },
  "language_info": {
   "codemirror_mode": {
    "name": "ipython",
    "version": 3
   },
   "file_extension": ".py",
   "mimetype": "text/x-python",
   "name": "python",
   "nbconvert_exporter": "python",
   "pygments_lexer": "ipython3",
   "version": "3.8.8"
  }
 },
 "nbformat": 4,
 "nbformat_minor": 5
}
